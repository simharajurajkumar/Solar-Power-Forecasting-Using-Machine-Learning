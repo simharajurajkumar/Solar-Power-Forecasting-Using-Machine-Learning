{
  "cells": [
    {
      "cell_type": "code",
      "execution_count": 1,
      "metadata": {
        "id": "fT1xsGBD-U2Q"
      },
      "outputs": [],
      "source": [
        "#Import libraries\n",
        "import pandas as pd\n",
        "import numpy as np\n",
        "from datetime import datetime, timedelta"
      ]
    },
    {
      "cell_type": "code",
      "execution_count": 2,
      "metadata": {
        "id": "1z-FegdW-k9d"
      },
      "outputs": [],
      "source": [
        "# Function to generate random datetime within a given range\n",
        "def random_datetime(start_date, end_date):\n",
        "    delta = end_date - start_date\n",
        "    random_delta = np.random.randint(delta.days)\n",
        "    random_time = start_date + timedelta(days=random_delta)\n",
        "    return random_time"
      ]
    },
    {
      "cell_type": "code",
      "execution_count": 3,
      "metadata": {
        "id": "3Nnz9_gJ-sAS"
      },
      "outputs": [],
      "source": [
        "# Generate random dates within a range\n",
        "start_date = datetime(2024, 1, 1)\n",
        "end_date = datetime(2024, 12, 31)\n",
        "dates = [random_datetime(start_date, end_date) for _ in range(1000)]"
      ]
    },
    {
      "cell_type": "code",
      "execution_count": 4,
      "metadata": {
        "id": "4GxA4TUf-wLS"
      },
      "outputs": [],
      "source": [
        "# Generate random times\n",
        "times = [datetime.strftime(datetime.strptime(\"08:00:00\", \"%H:%M:%S\") + timedelta(minutes=np.random.randint(720)), \"%H:%M:%S\") for _ in range(1000)]"
      ]
    },
    {
      "cell_type": "code",
      "execution_count": 5,
      "metadata": {
        "id": "lHjK3iVL-y9q"
      },
      "outputs": [],
      "source": [
        "# Generate random elevation, temperature, humidity, solar irradiance,\n",
        "# cloud cover, wind speed, and solar production\n",
        "elevations = np.random.randint(0, 10, size=1000)\n",
        "temperatures = np.random.randint(10, 40, size=1000)\n",
        "humidity = np.random.randint(30, 90, size=1000)\n",
        "solar_irradiance = np.random.randint(100, 800, size=1000)\n",
        "cloud_cover = np.random.uniform(0, 0.5, size=1000)\n",
        "wind_speed = np.random.uniform(1, 10, size=1000)\n",
        "solar_production = np.random.randint(100, 1000, size=1000)"
      ]
    },
    {
      "cell_type": "code",
      "execution_count": 6,
      "metadata": {
        "id": "qOHSd1h5-1uN"
      },
      "outputs": [],
      "source": [
        "# Create DataFrame\n",
        "data = {\n",
        "    'Date': dates,\n",
        "    'Time': times,\n",
        "    'Elevation': elevations,\n",
        "    'Temperature': temperatures,\n",
        "    'Humidity': humidity,\n",
        "    'Solar_Irradiance': solar_irradiance,\n",
        "    'Cloud_Cover': cloud_cover,\n",
        "    'Wind_Speed': wind_speed,\n",
        "    'Solar_Production': solar_production\n",
        "}\n",
        "\n",
        "df = pd.DataFrame(data)"
      ]
    },
    {
      "cell_type": "code",
      "execution_count": 7,
      "metadata": {
        "id": "XGuwPJWL_CUf"
      },
      "outputs": [],
      "source": [
        "# Save DataFrame to CSV\n",
        "df.to_csv('solar_energy_prediction_dataset.csv', index=False)"
      ]
    },
    {
      "cell_type": "code",
      "execution_count": null,
      "metadata": {},
      "outputs": [],
      "source": [
        "# Install scikit-learn if not already installed\n",
        "!pip install scikit-learn"
      ]
    },
    {
      "cell_type": "code",
      "execution_count": null,
      "metadata": {},
      "outputs": [],
      "source": [
        "# Import necessary libraries\n",
        "import pandas as pd\n",
        "from sklearn.model_selection import train_test_split\n",
        "from sklearn.ensemble import RandomForestRegressor\n",
        "from sklearn.metrics import mean_squared_error"
      ]
    },
    {
      "cell_type": "code",
      "execution_count": null,
      "metadata": {},
      "outputs": [],
      "source": [
        "# Load the dataset\n",
        "df = pd.read_csv('solar_energy_prediction_dataset.csv')"
      ]
    },
    {
      "cell_type": "code",
      "execution_count": null,
      "metadata": {},
      "outputs": [],
      "source": [
        "# Split data into features and target variable\n",
        "X = df[['Elevation', 'Temperature', 'Humidity', 'Solar_Irradiance', 'Cloud_Cover', 'Wind_Speed']]\n",
        "y = df['Solar_Production']"
      ]
    },
    {
      "cell_type": "code",
      "execution_count": null,
      "metadata": {},
      "outputs": [],
      "source": [
        "# Split data into train and test sets\n",
        "X_train, X_test, y_train, y_test = train_test_split(X, y, test_size=0.2, random_state=42)"
      ]
    },
    {
      "cell_type": "code",
      "execution_count": null,
      "metadata": {},
      "outputs": [],
      "source": [
        "# Initialize and train the Random Forest Regression model\n",
        "rf_model = RandomForestRegressor(n_estimators=100, random_state=42)\n",
        "rf_model.fit(X_train, y_train)"
      ]
    },
    {
      "cell_type": "code",
      "execution_count": null,
      "metadata": {},
      "outputs": [],
      "source": [
        "# Predict on the test set\n",
        "y_pred = rf_model.predict(X_test)"
      ]
    },
    {
      "cell_type": "code",
      "execution_count": null,
      "metadata": {},
      "outputs": [],
      "source": [
        "# Evaluate the model\n",
        "mse = mean_squared_error(y_test, y_pred)\n",
        "print(\"Mean Squared Error:\", mse)"
      ]
    }
  ],
  "metadata": {
    "colab": {
      "provenance": []
    },
    "kernelspec": {
      "display_name": "Python 3",
      "name": "python3"
    },
    "language_info": {
      "name": "python"
    }
  },
  "nbformat": 4,
  "nbformat_minor": 0
}
